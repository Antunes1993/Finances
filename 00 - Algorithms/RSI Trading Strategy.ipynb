{
 "cells": [
  {
   "cell_type": "raw",
   "id": "3c92f792-49a1-494b-ac4e-9dd8362fea03",
   "metadata": {},
   "source": [
    "How to build a RSI Trading Strategy and Backtest over 500 stocks in Python [70% Winning Rate]\n",
    "link: https://www.youtube.com/watch?v=pB8eJwg7LJU&list=WL&index=2&t=1743s"
   ]
  },
  {
   "cell_type": "code",
   "execution_count": 4,
   "id": "e04b17fd-561a-4c2a-97ca-f37a2afc522b",
   "metadata": {},
   "outputs": [],
   "source": [
    "import numpy as np\n",
    "import pandas as pd\n",
    "from datetime import datetime\n",
    "import matplotlib.pyplot as plt\n",
    "from pandas_datareader import data as web\n",
    "import yfinance as yf\n",
    "import seaborn as sb\n",
    "from sklearn.preprocessing import MinMaxScaler\n",
    "import seaborn as sns"
   ]
  },
  {
   "cell_type": "markdown",
   "id": "48300ec9-539a-419e-8728-ca02ff885f91",
   "metadata": {},
   "source": [
    "# 1. Introduction"
   ]
  },
  {
   "cell_type": "markdown",
   "id": "0e3b2b05-631f-4e19-8f84-7d4099d1a708",
   "metadata": {},
   "source": [
    "General condition: The stock price is above its 200-day moving average.\n",
    "\n",
    "* Buy decision if:\n",
    "    * 10-period RSI of the stock is below 30. \n",
    "    * Buy on the next day's open.\n",
    "\n",
    "* Sell decision if:\n",
    "    * 10-period RSI is above 40 OR after 10 trading days. \n",
    "\n",
    "The universe of stocks testing this strategy: All 505 single S&P stocks. \n",
    "In this project I'll also test it in IBOVESPA stocks."
   ]
  },
  {
   "cell_type": "markdown",
   "id": "0e9c21da-f2fd-4914-a979-33762d59219b",
   "metadata": {},
   "source": [
    "RSI Calculation: \n",
    "\n",
    "* Step 1: Calculating Up and Down Moves\n",
    "    * Upmoves: \n",
    "      * Take the daily return if return is positive. \n",
    "      * Take 0 if daily return is negative or zero\n",
    "     \n",
    "    * Downmoves:\n",
    "      * Absolute value of daily return if return is negative\n",
    "      * Zero if return is positive or zero.\n",
    "\n",
    "* Step 2: Averaging Up and Downmoves\n",
    "  Pick an average method\n",
    "  -e.g. Simple moving average, exponential moving average.\n",
    "\n",
    "  We will take Wilder's smoothing average method which is the same as an exponential moving average but with a different smoothing factor.\n",
    "  Smoothing factor in exponential moving average is: alpha = 2/(N+1) where N = number of days.\n",
    "  Smoothing factor in WSM is: alpha = 1/N\n",
    "\n",
    "  As there is no WSM function in Python to get the WSM alpha of 1/10 we would have to use a N of 19 in the exponential moving average formula.\n",
    "\n",
    "* Step 3: RS and RSI calculation\n",
    "  RS - Average Upmove / Average Downmove\n",
    "  RSI - 100 - 100/(1+RS)  "
   ]
  },
  {
   "cell_type": "code",
   "execution_count": 5,
   "id": "f20b4773-a6ca-4664-accc-95d5c91cba19",
   "metadata": {},
   "outputs": [],
   "source": [
    "#Obtendo cotacoes\n",
    "tickers = pd.read_html('https://en.wikipedia.org/wiki/List_of_S%26P_500_companies')[0]\n",
    "tickers = tickers.Symbol.to_list()\n",
    "tickers = [i.replace('.','-') for i in tickers] #fixing the tickers with dots."
   ]
  },
  {
   "cell_type": "code",
   "execution_count": 6,
   "id": "049103bb-d67a-475a-a80c-2f825e725b07",
   "metadata": {},
   "outputs": [
    {
     "data": {
      "text/plain": [
       "'WY'"
      ]
     },
     "execution_count": 6,
     "metadata": {},
     "output_type": "execute_result"
    }
   ],
   "source": [
    "tickers.pop(474)\n",
    "tickers.pop(489)"
   ]
  },
  {
   "cell_type": "code",
   "execution_count": 27,
   "id": "2968c2fe-76d5-481e-af6c-56150f6bad1e",
   "metadata": {},
   "outputs": [],
   "source": [
    "def RSIcalc(asset):\n",
    "    dataset = yf.download(asset, start='2011-01-01')\n",
    "    dataset['MA200'] = dataset['Adj Close'].rolling(window=200).mean() \n",
    "    dataset['price change'] = dataset['Adj Close'].pct_change()\n",
    "    dataset['Upmove'] = dataset['price change'].apply(lambda x: x if x > 0 else 0)\n",
    "    dataset['Downmove'] = dataset['price change'].apply(lambda x: abs(x) if x < 0 else 0)\n",
    "    dataset['avg_Up'] = dataset['Upmove'].ewm(span=19).mean()\n",
    "    dataset['avg_Down'] = dataset['Downmove'].ewm(span=19).mean()\n",
    "    dataset = dataset.dropna()\n",
    "    dataset['RS'] = dataset['avg_Up']/dataset['avg_Down']\n",
    "    dataset['RSI'] = dataset['RS'].apply(lambda x: 100 - (100/(x + 1)))\n",
    "    dataset.loc[(dataset['Adj Close'] > dataset['MA200']) & (dataset['RSI'] < 30), 'Buy'] = 'Yes'\n",
    "    dataset.loc[(dataset['Adj Close'] < dataset['MA200']) | (dataset['RSI'] > 30), 'Buy'] = 'No'\n",
    "\n",
    "    return dataset    "
   ]
  },
  {
   "cell_type": "code",
   "execution_count": 45,
   "id": "bd121a5f-7fbc-4620-af9c-1d9288fa97d9",
   "metadata": {},
   "outputs": [],
   "source": [
    "def getSignals(df):\n",
    "    buying_dates = []\n",
    "    selling_dates = []\n",
    "    for i in range(len(df) - 11): #we need to put this -11 because we would out of this range when interating with j and add 1 in the selling_dates.append(df.iloc[i+j+1].name)\n",
    "        if df['Buy'].iloc[i] == \"Yes\":\n",
    "            buying_dates.append(df.iloc[i+1].name) #name is the timestamp. If I get a Yes, we wanna buy the next day.\n",
    "            #Checking the selling days its more tricky. \n",
    "            #Selling points will be as stablished before when rsi exceed 40 points in the next 10 days.\n",
    "            for j in range(1,11):\n",
    "                if df.RSI.iloc[i+j] > 40:\n",
    "                    selling_dates.append(df.iloc[i+j+1].name)\n",
    "                    break\n",
    "                elif j==10:\n",
    "                    selling_dates.append(df.iloc[i+j+1].name)\n",
    "    return buying_dates, selling_dates"
   ]
  },
  {
   "cell_type": "code",
   "execution_count": 32,
   "id": "e4d1a41f-5dc7-4a8b-86a9-4f3b7cfc49d1",
   "metadata": {},
   "outputs": [
    {
     "name": "stderr",
     "output_type": "stream",
     "text": [
      "[*********************100%%**********************]  1 of 1 completed\n",
      "C:\\Users\\z004s8rp\\AppData\\Local\\Temp\\ipykernel_28860\\1986622364.py:10: SettingWithCopyWarning: \n",
      "A value is trying to be set on a copy of a slice from a DataFrame.\n",
      "Try using .loc[row_indexer,col_indexer] = value instead\n",
      "\n",
      "See the caveats in the documentation: https://pandas.pydata.org/pandas-docs/stable/user_guide/indexing.html#returning-a-view-versus-a-copy\n",
      "  dataset['RS'] = dataset['avg_Up']/dataset['avg_Down']\n",
      "C:\\Users\\z004s8rp\\AppData\\Local\\Temp\\ipykernel_28860\\1986622364.py:11: SettingWithCopyWarning: \n",
      "A value is trying to be set on a copy of a slice from a DataFrame.\n",
      "Try using .loc[row_indexer,col_indexer] = value instead\n",
      "\n",
      "See the caveats in the documentation: https://pandas.pydata.org/pandas-docs/stable/user_guide/indexing.html#returning-a-view-versus-a-copy\n",
      "  dataset['RSI'] = dataset['RS'].apply(lambda x: 100 - (100/(x + 1)))\n",
      "C:\\Users\\z004s8rp\\AppData\\Local\\Temp\\ipykernel_28860\\1986622364.py:12: SettingWithCopyWarning: \n",
      "A value is trying to be set on a copy of a slice from a DataFrame.\n",
      "Try using .loc[row_indexer,col_indexer] = value instead\n",
      "\n",
      "See the caveats in the documentation: https://pandas.pydata.org/pandas-docs/stable/user_guide/indexing.html#returning-a-view-versus-a-copy\n",
      "  dataset.loc[(dataset['Adj Close'] > dataset['MA200']) & (dataset['RSI'] < 30), 'Buy'] = 'Yes'\n"
     ]
    },
    {
     "data": {
      "text/html": [
       "<div>\n",
       "<style scoped>\n",
       "    .dataframe tbody tr th:only-of-type {\n",
       "        vertical-align: middle;\n",
       "    }\n",
       "\n",
       "    .dataframe tbody tr th {\n",
       "        vertical-align: top;\n",
       "    }\n",
       "\n",
       "    .dataframe thead th {\n",
       "        text-align: right;\n",
       "    }\n",
       "</style>\n",
       "<table border=\"1\" class=\"dataframe\">\n",
       "  <thead>\n",
       "    <tr style=\"text-align: right;\">\n",
       "      <th></th>\n",
       "      <th>Open</th>\n",
       "      <th>High</th>\n",
       "      <th>Low</th>\n",
       "      <th>Close</th>\n",
       "      <th>Adj Close</th>\n",
       "      <th>Volume</th>\n",
       "      <th>MA200</th>\n",
       "      <th>price change</th>\n",
       "      <th>Upmove</th>\n",
       "      <th>Downmove</th>\n",
       "      <th>avg_Up</th>\n",
       "      <th>avg_Down</th>\n",
       "      <th>RS</th>\n",
       "      <th>RSI</th>\n",
       "      <th>Buy</th>\n",
       "    </tr>\n",
       "    <tr>\n",
       "      <th>Date</th>\n",
       "      <th></th>\n",
       "      <th></th>\n",
       "      <th></th>\n",
       "      <th></th>\n",
       "      <th></th>\n",
       "      <th></th>\n",
       "      <th></th>\n",
       "      <th></th>\n",
       "      <th></th>\n",
       "      <th></th>\n",
       "      <th></th>\n",
       "      <th></th>\n",
       "      <th></th>\n",
       "      <th></th>\n",
       "      <th></th>\n",
       "    </tr>\n",
       "  </thead>\n",
       "  <tbody>\n",
       "    <tr>\n",
       "      <th>2012-03-06</th>\n",
       "      <td>85.72</td>\n",
       "      <td>85.86</td>\n",
       "      <td>84.83</td>\n",
       "      <td>84.95</td>\n",
       "      <td>57.77</td>\n",
       "      <td>3547900</td>\n",
       "      <td>56.52</td>\n",
       "      <td>-0.02</td>\n",
       "      <td>0.0</td>\n",
       "      <td>0.02</td>\n",
       "      <td>0.0</td>\n",
       "      <td>0.00</td>\n",
       "      <td>0.33</td>\n",
       "      <td>24.64</td>\n",
       "      <td>Yes</td>\n",
       "    </tr>\n",
       "    <tr>\n",
       "      <th>2012-04-10</th>\n",
       "      <td>86.19</td>\n",
       "      <td>86.40</td>\n",
       "      <td>84.44</td>\n",
       "      <td>84.58</td>\n",
       "      <td>57.52</td>\n",
       "      <td>3651000</td>\n",
       "      <td>56.36</td>\n",
       "      <td>-0.02</td>\n",
       "      <td>0.0</td>\n",
       "      <td>0.02</td>\n",
       "      <td>0.0</td>\n",
       "      <td>0.01</td>\n",
       "      <td>0.28</td>\n",
       "      <td>21.75</td>\n",
       "      <td>Yes</td>\n",
       "    </tr>\n",
       "  </tbody>\n",
       "</table>\n",
       "</div>"
      ],
      "text/plain": [
       "             Open   High    Low  Close  Adj Close   Volume  MA200  \\\n",
       "Date                                                                \n",
       "2012-03-06  85.72  85.86  84.83  84.95      57.77  3547900  56.52   \n",
       "2012-04-10  86.19  86.40  84.44  84.58      57.52  3651000  56.36   \n",
       "\n",
       "            price change  Upmove  Downmove  avg_Up  avg_Down    RS    RSI  Buy  \n",
       "Date                                                                            \n",
       "2012-03-06         -0.02     0.0      0.02     0.0      0.00  0.33  24.64  Yes  \n",
       "2012-04-10         -0.02     0.0      0.02     0.0      0.01  0.28  21.75  Yes  "
      ]
     },
     "execution_count": 32,
     "metadata": {},
     "output_type": "execute_result"
    }
   ],
   "source": [
    "frame = RSIcalc(tickers[0])\n",
    "buy, sell = getSignals(frame)\n",
    "frame[frame.Buy == \"Yes\"].head(2).round(2)"
   ]
  },
  {
   "cell_type": "code",
   "execution_count": 38,
   "id": "8eec1cbc-4a56-4ef5-9f0d-abca9ee9b065",
   "metadata": {},
   "outputs": [
    {
     "data": {
      "text/plain": [
       "[<matplotlib.lines.Line2D at 0x1a6338d4320>]"
      ]
     },
     "execution_count": 38,
     "metadata": {},
     "output_type": "execute_result"
    },
    {
     "data": {
      "image/png": "[encoded data removed]",
      "text/plain": [
       "<Figure size 1200x500 with 1 Axes>"
      ]
     },
     "metadata": {},
     "output_type": "display_data"
    }
   ],
   "source": [
    "plt.figure(figsize=(12,5))\n",
    "plt.scatter(frame.loc[buy].index, frame.loc[buy]['Adj Close'], marker='^', c='g')\n",
    "plt.scatter(frame.loc[sell].index, frame.loc[sell]['Adj Close'], marker='v', c='r')\n",
    "\n",
    "plt.plot(frame['Adj Close'], alpha=0.7)"
   ]
  },
  {
   "cell_type": "code",
   "execution_count": 42,
   "id": "c9867408-ee3d-4040-8bed-1fbcf271b43c",
   "metadata": {},
   "outputs": [
    {
     "data": {
      "text/plain": [
       "array([ 0.01841858,  0.01323802, -0.0115183 , -0.01105814,  0.00212315,\n",
       "        0.01287556,  0.03632401,  0.02847867,  0.01033357,  0.01558087,\n",
       "        0.01012236, -0.00346098,  0.00108178, -0.00407378,  0.02345979,\n",
       "        0.01052883,  0.02759942,  0.00556546,  0.00556546,  0.01286469,\n",
       "        0.0062834 ,  0.01170129,  0.01861865,  0.01306246,  0.0130085 ,\n",
       "        0.01320242, -0.00076654,  0.00355307, -0.01841872,  0.01366927,\n",
       "        0.02033747,  0.01195283,  0.01595001,  0.00852711,  0.02154845,\n",
       "        0.00861573,  0.01892706, -0.0052846 ,  0.01409035,  0.01120925])"
      ]
     },
     "execution_count": 42,
     "metadata": {},
     "output_type": "execute_result"
    }
   ],
   "source": [
    "profits = (frame.loc[sell].Open.values - frame.loc[buy].Open.values)/ frame.loc[buy].Open.values\n",
    "profits"
   ]
  },
  {
   "cell_type": "code",
   "execution_count": 43,
   "id": "99d22536-90da-41c0-abce-68f9c0bb05f3",
   "metadata": {},
   "outputs": [
    {
     "data": {
      "text/plain": [
       "0.825"
      ]
     },
     "execution_count": 43,
     "metadata": {},
     "output_type": "execute_result"
    }
   ],
   "source": [
    "win_rate = [i for i in profits if i > 0]\n",
    "len(win_rate)/len(profits)"
   ]
  },
  {
   "cell_type": "code",
   "execution_count": 44,
   "id": "e8de6b60-1507-4538-ab84-f288ababae23",
   "metadata": {},
   "outputs": [
    {
     "data": {
      "text/plain": [
       "40"
      ]
     },
     "execution_count": 44,
     "metadata": {},
     "output_type": "execute_result"
    }
   ],
   "source": [
    "#Number of trades done:\n",
    "len(profits)"
   ]
  },
  {
   "cell_type": "markdown",
   "id": "1d211896-acad-46f4-8138-15e4937f22c5",
   "metadata": {},
   "source": [
    "As we can see, 40 trades in 10 years is not much. So, lets consider more stocks."
   ]
  },
  {
   "cell_type": "code",
   "execution_count": 51,
   "id": "572215de-e2b5-477c-9028-509a1ccf072d",
   "metadata": {},
   "outputs": [
    {
     "name": "stderr",
     "output_type": "stream",
     "text": [
      "[*********************100%%**********************]  1 of 1 completed\n",
      "C:\\Users\\z004s8rp\\AppData\\Local\\Temp\\ipykernel_28860\\1986622364.py:10: SettingWithCopyWarning: \n",
      "A value is trying to be set on a copy of a slice from a DataFrame.\n",
      "Try using .loc[row_indexer,col_indexer] = value instead\n",
      "\n",
      "See the caveats in the documentation: https://pandas.pydata.org/pandas-docs/stable/user_guide/indexing.html#returning-a-view-versus-a-copy\n",
      "  dataset['RS'] = dataset['avg_Up']/dataset['avg_Down']\n",
      "C:\\Users\\z004s8rp\\AppData\\Local\\Temp\\ipykernel_28860\\1986622364.py:11: SettingWithCopyWarning: \n",
      "A value is trying to be set on a copy of a slice from a DataFrame.\n",
      "Try using .loc[row_indexer,col_indexer] = value instead\n",
      "\n",
      "See the caveats in the documentation: https://pandas.pydata.org/pandas-docs/stable/user_guide/indexing.html#returning-a-view-versus-a-copy\n",
      "  dataset['RSI'] = dataset['RS'].apply(lambda x: 100 - (100/(x + 1)))\n",
      "C:\\Users\\z004s8rp\\AppData\\Local\\Temp\\ipykernel_28860\\1986622364.py:12: SettingWithCopyWarning: \n",
      "A value is trying to be set on a copy of a slice from a DataFrame.\n",
      "Try using .loc[row_indexer,col_indexer] = value instead\n",
      "\n",
      "See the caveats in the documentation: https://pandas.pydata.org/pandas-docs/stable/user_guide/indexing.html#returning-a-view-versus-a-copy\n",
      "  dataset.loc[(dataset['Adj Close'] > dataset['MA200']) & (dataset['RSI'] < 30), 'Buy'] = 'Yes'\n",
      "[*********************100%%**********************]  1 of 1 completed\n",
      "C:\\Users\\z004s8rp\\AppData\\Local\\Temp\\ipykernel_28860\\1986622364.py:10: SettingWithCopyWarning: \n",
      "A value is trying to be set on a copy of a slice from a DataFrame.\n",
      "Try using .loc[row_indexer,col_indexer] = value instead\n",
      "\n",
      "See the caveats in the documentation: https://pandas.pydata.org/pandas-docs/stable/user_guide/indexing.html#returning-a-view-versus-a-copy\n",
      "  dataset['RS'] = dataset['avg_Up']/dataset['avg_Down']\n",
      "C:\\Users\\z004s8rp\\AppData\\Local\\Temp\\ipykernel_28860\\1986622364.py:11: SettingWithCopyWarning: \n",
      "A value is trying to be set on a copy of a slice from a DataFrame.\n",
      "Try using .loc[row_indexer,col_indexer] = value instead\n",
      "\n",
      "See the caveats in the documentation: https://pandas.pydata.org/pandas-docs/stable/user_guide/indexing.html#returning-a-view-versus-a-copy\n",
      "  dataset['RSI'] = dataset['RS'].apply(lambda x: 100 - (100/(x + 1)))\n",
      "C:\\Users\\z004s8rp\\AppData\\Local\\Temp\\ipykernel_28860\\1986622364.py:12: SettingWithCopyWarning: \n",
      "A value is trying to be set on a copy of a slice from a DataFrame.\n",
      "Try using .loc[row_indexer,col_indexer] = value instead\n",
      "\n",
      "See the caveats in the documentation: https://pandas.pydata.org/pandas-docs/stable/user_guide/indexing.html#returning-a-view-versus-a-copy\n",
      "  dataset.loc[(dataset['Adj Close'] > dataset['MA200']) & (dataset['RSI'] < 30), 'Buy'] = 'Yes'\n",
      "[*********************100%%**********************]  1 of 1 completed\n",
      "C:\\Users\\z004s8rp\\AppData\\Local\\Temp\\ipykernel_28860\\1986622364.py:10: SettingWithCopyWarning: \n",
      "A value is trying to be set on a copy of a slice from a DataFrame.\n",
      "Try using .loc[row_indexer,col_indexer] = value instead\n",
      "\n",
      "See the caveats in the documentation: https://pandas.pydata.org/pandas-docs/stable/user_guide/indexing.html#returning-a-view-versus-a-copy\n",
      "  dataset['RS'] = dataset['avg_Up']/dataset['avg_Down']\n",
      "C:\\Users\\z004s8rp\\AppData\\Local\\Temp\\ipykernel_28860\\1986622364.py:11: SettingWithCopyWarning: \n",
      "A value is trying to be set on a copy of a slice from a DataFrame.\n",
      "Try using .loc[row_indexer,col_indexer] = value instead\n",
      "\n",
      "See the caveats in the documentation: https://pandas.pydata.org/pandas-docs/stable/user_guide/indexing.html#returning-a-view-versus-a-copy\n",
      "  dataset['RSI'] = dataset['RS'].apply(lambda x: 100 - (100/(x + 1)))\n",
      "C:\\Users\\z004s8rp\\AppData\\Local\\Temp\\ipykernel_28860\\1986622364.py:12: SettingWithCopyWarning: \n",
      "A value is trying to be set on a copy of a slice from a DataFrame.\n",
      "Try using .loc[row_indexer,col_indexer] = value instead\n",
      "\n",
      "See the caveats in the documentation: https://pandas.pydata.org/pandas-docs/stable/user_guide/indexing.html#returning-a-view-versus-a-copy\n",
      "  dataset.loc[(dataset['Adj Close'] > dataset['MA200']) & (dataset['RSI'] < 30), 'Buy'] = 'Yes'\n",
      "[*********************100%%**********************]  1 of 1 completed\n",
      "C:\\Users\\z004s8rp\\AppData\\Local\\Temp\\ipykernel_28860\\1986622364.py:10: SettingWithCopyWarning: \n",
      "A value is trying to be set on a copy of a slice from a DataFrame.\n",
      "Try using .loc[row_indexer,col_indexer] = value instead\n",
      "\n",
      "See the caveats in the documentation: https://pandas.pydata.org/pandas-docs/stable/user_guide/indexing.html#returning-a-view-versus-a-copy\n",
      "  dataset['RS'] = dataset['avg_Up']/dataset['avg_Down']\n",
      "C:\\Users\\z004s8rp\\AppData\\Local\\Temp\\ipykernel_28860\\1986622364.py:11: SettingWithCopyWarning: \n",
      "A value is trying to be set on a copy of a slice from a DataFrame.\n",
      "Try using .loc[row_indexer,col_indexer] = value instead\n",
      "\n",
      "See the caveats in the documentation: https://pandas.pydata.org/pandas-docs/stable/user_guide/indexing.html#returning-a-view-versus-a-copy\n",
      "  dataset['RSI'] = dataset['RS'].apply(lambda x: 100 - (100/(x + 1)))\n",
      "C:\\Users\\z004s8rp\\AppData\\Local\\Temp\\ipykernel_28860\\1986622364.py:12: SettingWithCopyWarning: \n",
      "A value is trying to be set on a copy of a slice from a DataFrame.\n",
      "Try using .loc[row_indexer,col_indexer] = value instead\n",
      "\n",
      "See the caveats in the documentation: https://pandas.pydata.org/pandas-docs/stable/user_guide/indexing.html#returning-a-view-versus-a-copy\n",
      "  dataset.loc[(dataset['Adj Close'] > dataset['MA200']) & (dataset['RSI'] < 30), 'Buy'] = 'Yes'\n",
      "[*********************100%%**********************]  1 of 1 completed\n",
      "C:\\Users\\z004s8rp\\AppData\\Local\\Temp\\ipykernel_28860\\1986622364.py:10: SettingWithCopyWarning: \n",
      "A value is trying to be set on a copy of a slice from a DataFrame.\n",
      "Try using .loc[row_indexer,col_indexer] = value instead\n",
      "\n",
      "See the caveats in the documentation: https://pandas.pydata.org/pandas-docs/stable/user_guide/indexing.html#returning-a-view-versus-a-copy\n",
      "  dataset['RS'] = dataset['avg_Up']/dataset['avg_Down']\n",
      "C:\\Users\\z004s8rp\\AppData\\Local\\Temp\\ipykernel_28860\\1986622364.py:11: SettingWithCopyWarning: \n",
      "A value is trying to be set on a copy of a slice from a DataFrame.\n",
      "Try using .loc[row_indexer,col_indexer] = value instead\n",
      "\n",
      "See the caveats in the documentation: https://pandas.pydata.org/pandas-docs/stable/user_guide/indexing.html#returning-a-view-versus-a-copy\n",
      "  dataset['RSI'] = dataset['RS'].apply(lambda x: 100 - (100/(x + 1)))\n",
      "C:\\Users\\z004s8rp\\AppData\\Local\\Temp\\ipykernel_28860\\1986622364.py:12: SettingWithCopyWarning: \n",
      "A value is trying to be set on a copy of a slice from a DataFrame.\n",
      "Try using .loc[row_indexer,col_indexer] = value instead\n",
      "\n",
      "See the caveats in the documentation: https://pandas.pydata.org/pandas-docs/stable/user_guide/indexing.html#returning-a-view-versus-a-copy\n",
      "  dataset.loc[(dataset['Adj Close'] > dataset['MA200']) & (dataset['RSI'] < 30), 'Buy'] = 'Yes'\n",
      "[*********************100%%**********************]  1 of 1 completed\n",
      "C:\\Users\\z004s8rp\\AppData\\Local\\Temp\\ipykernel_28860\\1986622364.py:10: SettingWithCopyWarning: \n",
      "A value is trying to be set on a copy of a slice from a DataFrame.\n",
      "Try using .loc[row_indexer,col_indexer] = value instead\n",
      "\n",
      "See the caveats in the documentation: https://pandas.pydata.org/pandas-docs/stable/user_guide/indexing.html#returning-a-view-versus-a-copy\n",
      "  dataset['RS'] = dataset['avg_Up']/dataset['avg_Down']\n",
      "C:\\Users\\z004s8rp\\AppData\\Local\\Temp\\ipykernel_28860\\1986622364.py:11: SettingWithCopyWarning: \n",
      "A value is trying to be set on a copy of a slice from a DataFrame.\n",
      "Try using .loc[row_indexer,col_indexer] = value instead\n",
      "\n",
      "See the caveats in the documentation: https://pandas.pydata.org/pandas-docs/stable/user_guide/indexing.html#returning-a-view-versus-a-copy\n",
      "  dataset['RSI'] = dataset['RS'].apply(lambda x: 100 - (100/(x + 1)))\n",
      "C:\\Users\\z004s8rp\\AppData\\Local\\Temp\\ipykernel_28860\\1986622364.py:12: SettingWithCopyWarning: \n",
      "A value is trying to be set on a copy of a slice from a DataFrame.\n",
      "Try using .loc[row_indexer,col_indexer] = value instead\n",
      "\n",
      "See the caveats in the documentation: https://pandas.pydata.org/pandas-docs/stable/user_guide/indexing.html#returning-a-view-versus-a-copy\n",
      "  dataset.loc[(dataset['Adj Close'] > dataset['MA200']) & (dataset['RSI'] < 30), 'Buy'] = 'Yes'\n",
      "[*********************100%%**********************]  1 of 1 completed\n",
      "C:\\Users\\z004s8rp\\AppData\\Local\\Temp\\ipykernel_28860\\1986622364.py:10: SettingWithCopyWarning: \n",
      "A value is trying to be set on a copy of a slice from a DataFrame.\n",
      "Try using .loc[row_indexer,col_indexer] = value instead\n",
      "\n",
      "See the caveats in the documentation: https://pandas.pydata.org/pandas-docs/stable/user_guide/indexing.html#returning-a-view-versus-a-copy\n",
      "  dataset['RS'] = dataset['avg_Up']/dataset['avg_Down']\n",
      "C:\\Users\\z004s8rp\\AppData\\Local\\Temp\\ipykernel_28860\\1986622364.py:11: SettingWithCopyWarning: \n",
      "A value is trying to be set on a copy of a slice from a DataFrame.\n",
      "Try using .loc[row_indexer,col_indexer] = value instead\n",
      "\n",
      "See the caveats in the documentation: https://pandas.pydata.org/pandas-docs/stable/user_guide/indexing.html#returning-a-view-versus-a-copy\n",
      "  dataset['RSI'] = dataset['RS'].apply(lambda x: 100 - (100/(x + 1)))\n",
      "C:\\Users\\z004s8rp\\AppData\\Local\\Temp\\ipykernel_28860\\1986622364.py:12: SettingWithCopyWarning: \n",
      "A value is trying to be set on a copy of a slice from a DataFrame.\n",
      "Try using .loc[row_indexer,col_indexer] = value instead\n",
      "\n",
      "See the caveats in the documentation: https://pandas.pydata.org/pandas-docs/stable/user_guide/indexing.html#returning-a-view-versus-a-copy\n",
      "  dataset.loc[(dataset['Adj Close'] > dataset['MA200']) & (dataset['RSI'] < 30), 'Buy'] = 'Yes'\n",
      "[*********************100%%**********************]  1 of 1 completed\n",
      "C:\\Users\\z004s8rp\\AppData\\Local\\Temp\\ipykernel_28860\\1986622364.py:10: SettingWithCopyWarning: \n",
      "A value is trying to be set on a copy of a slice from a DataFrame.\n",
      "Try using .loc[row_indexer,col_indexer] = value instead\n",
      "\n",
      "See the caveats in the documentation: https://pandas.pydata.org/pandas-docs/stable/user_guide/indexing.html#returning-a-view-versus-a-copy\n",
      "  dataset['RS'] = dataset['avg_Up']/dataset['avg_Down']\n",
      "C:\\Users\\z004s8rp\\AppData\\Local\\Temp\\ipykernel_28860\\1986622364.py:11: SettingWithCopyWarning: \n",
      "A value is trying to be set on a copy of a slice from a DataFrame.\n",
      "Try using .loc[row_indexer,col_indexer] = value instead\n",
      "\n",
      "See the caveats in the documentation: https://pandas.pydata.org/pandas-docs/stable/user_guide/indexing.html#returning-a-view-versus-a-copy\n",
      "  dataset['RSI'] = dataset['RS'].apply(lambda x: 100 - (100/(x + 1)))\n",
      "C:\\Users\\z004s8rp\\AppData\\Local\\Temp\\ipykernel_28860\\1986622364.py:12: SettingWithCopyWarning: \n",
      "A value is trying to be set on a copy of a slice from a DataFrame.\n",
      "Try using .loc[row_indexer,col_indexer] = value instead\n",
      "\n",
      "See the caveats in the documentation: https://pandas.pydata.org/pandas-docs/stable/user_guide/indexing.html#returning-a-view-versus-a-copy\n",
      "  dataset.loc[(dataset['Adj Close'] > dataset['MA200']) & (dataset['RSI'] < 30), 'Buy'] = 'Yes'\n",
      "[*********************100%%**********************]  1 of 1 completed\n",
      "C:\\Users\\z004s8rp\\AppData\\Local\\Temp\\ipykernel_28860\\1986622364.py:10: SettingWithCopyWarning: \n",
      "A value is trying to be set on a copy of a slice from a DataFrame.\n",
      "Try using .loc[row_indexer,col_indexer] = value instead\n",
      "\n",
      "See the caveats in the documentation: https://pandas.pydata.org/pandas-docs/stable/user_guide/indexing.html#returning-a-view-versus-a-copy\n",
      "  dataset['RS'] = dataset['avg_Up']/dataset['avg_Down']\n",
      "C:\\Users\\z004s8rp\\AppData\\Local\\Temp\\ipykernel_28860\\1986622364.py:11: SettingWithCopyWarning: \n",
      "A value is trying to be set on a copy of a slice from a DataFrame.\n",
      "Try using .loc[row_indexer,col_indexer] = value instead\n",
      "\n",
      "See the caveats in the documentation: https://pandas.pydata.org/pandas-docs/stable/user_guide/indexing.html#returning-a-view-versus-a-copy\n",
      "  dataset['RSI'] = dataset['RS'].apply(lambda x: 100 - (100/(x + 1)))\n",
      "C:\\Users\\z004s8rp\\AppData\\Local\\Temp\\ipykernel_28860\\1986622364.py:12: SettingWithCopyWarning: \n",
      "A value is trying to be set on a copy of a slice from a DataFrame.\n",
      "Try using .loc[row_indexer,col_indexer] = value instead\n",
      "\n",
      "See the caveats in the documentation: https://pandas.pydata.org/pandas-docs/stable/user_guide/indexing.html#returning-a-view-versus-a-copy\n",
      "  dataset.loc[(dataset['Adj Close'] > dataset['MA200']) & (dataset['RSI'] < 30), 'Buy'] = 'Yes'\n",
      "[*********************100%%**********************]  1 of 1 completed\n",
      "C:\\Users\\z004s8rp\\AppData\\Local\\Temp\\ipykernel_28860\\1986622364.py:10: SettingWithCopyWarning: \n",
      "A value is trying to be set on a copy of a slice from a DataFrame.\n",
      "Try using .loc[row_indexer,col_indexer] = value instead\n",
      "\n",
      "See the caveats in the documentation: https://pandas.pydata.org/pandas-docs/stable/user_guide/indexing.html#returning-a-view-versus-a-copy\n",
      "  dataset['RS'] = dataset['avg_Up']/dataset['avg_Down']\n",
      "C:\\Users\\z004s8rp\\AppData\\Local\\Temp\\ipykernel_28860\\1986622364.py:11: SettingWithCopyWarning: \n",
      "A value is trying to be set on a copy of a slice from a DataFrame.\n",
      "Try using .loc[row_indexer,col_indexer] = value instead\n",
      "\n",
      "See the caveats in the documentation: https://pandas.pydata.org/pandas-docs/stable/user_guide/indexing.html#returning-a-view-versus-a-copy\n",
      "  dataset['RSI'] = dataset['RS'].apply(lambda x: 100 - (100/(x + 1)))\n",
      "C:\\Users\\z004s8rp\\AppData\\Local\\Temp\\ipykernel_28860\\1986622364.py:12: SettingWithCopyWarning: \n",
      "A value is trying to be set on a copy of a slice from a DataFrame.\n",
      "Try using .loc[row_indexer,col_indexer] = value instead\n",
      "\n",
      "See the caveats in the documentation: https://pandas.pydata.org/pandas-docs/stable/user_guide/indexing.html#returning-a-view-versus-a-copy\n",
      "  dataset.loc[(dataset['Adj Close'] > dataset['MA200']) & (dataset['RSI'] < 30), 'Buy'] = 'Yes'\n",
      "[*********************100%%**********************]  1 of 1 completed\n",
      "C:\\Users\\z004s8rp\\AppData\\Local\\Temp\\ipykernel_28860\\1986622364.py:10: SettingWithCopyWarning: \n",
      "A value is trying to be set on a copy of a slice from a DataFrame.\n",
      "Try using .loc[row_indexer,col_indexer] = value instead\n",
      "\n",
      "See the caveats in the documentation: https://pandas.pydata.org/pandas-docs/stable/user_guide/indexing.html#returning-a-view-versus-a-copy\n",
      "  dataset['RS'] = dataset['avg_Up']/dataset['avg_Down']\n",
      "C:\\Users\\z004s8rp\\AppData\\Local\\Temp\\ipykernel_28860\\1986622364.py:11: SettingWithCopyWarning: \n",
      "A value is trying to be set on a copy of a slice from a DataFrame.\n",
      "Try using .loc[row_indexer,col_indexer] = value instead\n",
      "\n",
      "See the caveats in the documentation: https://pandas.pydata.org/pandas-docs/stable/user_guide/indexing.html#returning-a-view-versus-a-copy\n",
      "  dataset['RSI'] = dataset['RS'].apply(lambda x: 100 - (100/(x + 1)))\n",
      "C:\\Users\\z004s8rp\\AppData\\Local\\Temp\\ipykernel_28860\\1986622364.py:12: SettingWithCopyWarning: \n",
      "A value is trying to be set on a copy of a slice from a DataFrame.\n",
      "Try using .loc[row_indexer,col_indexer] = value instead\n",
      "\n",
      "See the caveats in the documentation: https://pandas.pydata.org/pandas-docs/stable/user_guide/indexing.html#returning-a-view-versus-a-copy\n",
      "  dataset.loc[(dataset['Adj Close'] > dataset['MA200']) & (dataset['RSI'] < 30), 'Buy'] = 'Yes'\n",
      "[*********************100%%**********************]  1 of 1 completed\n",
      "C:\\Users\\z004s8rp\\AppData\\Local\\Temp\\ipykernel_28860\\1986622364.py:10: SettingWithCopyWarning: \n",
      "A value is trying to be set on a copy of a slice from a DataFrame.\n",
      "Try using .loc[row_indexer,col_indexer] = value instead\n",
      "\n",
      "See the caveats in the documentation: https://pandas.pydata.org/pandas-docs/stable/user_guide/indexing.html#returning-a-view-versus-a-copy\n",
      "  dataset['RS'] = dataset['avg_Up']/dataset['avg_Down']\n",
      "C:\\Users\\z004s8rp\\AppData\\Local\\Temp\\ipykernel_28860\\1986622364.py:11: SettingWithCopyWarning: \n",
      "A value is trying to be set on a copy of a slice from a DataFrame.\n",
      "Try using .loc[row_indexer,col_indexer] = value instead\n",
      "\n",
      "See the caveats in the documentation: https://pandas.pydata.org/pandas-docs/stable/user_guide/indexing.html#returning-a-view-versus-a-copy\n",
      "  dataset['RSI'] = dataset['RS'].apply(lambda x: 100 - (100/(x + 1)))\n",
      "C:\\Users\\z004s8rp\\AppData\\Local\\Temp\\ipykernel_28860\\1986622364.py:12: SettingWithCopyWarning: \n",
      "A value is trying to be set on a copy of a slice from a DataFrame.\n",
      "Try using .loc[row_indexer,col_indexer] = value instead\n",
      "\n",
      "See the caveats in the documentation: https://pandas.pydata.org/pandas-docs/stable/user_guide/indexing.html#returning-a-view-versus-a-copy\n",
      "  dataset.loc[(dataset['Adj Close'] > dataset['MA200']) & (dataset['RSI'] < 30), 'Buy'] = 'Yes'\n",
      "[*********************100%%**********************]  1 of 1 completed\n",
      "C:\\Users\\z004s8rp\\AppData\\Local\\Temp\\ipykernel_28860\\1986622364.py:10: SettingWithCopyWarning: \n",
      "A value is trying to be set on a copy of a slice from a DataFrame.\n",
      "Try using .loc[row_indexer,col_indexer] = value instead\n",
      "\n",
      "See the caveats in the documentation: https://pandas.pydata.org/pandas-docs/stable/user_guide/indexing.html#returning-a-view-versus-a-copy\n",
      "  dataset['RS'] = dataset['avg_Up']/dataset['avg_Down']\n",
      "C:\\Users\\z004s8rp\\AppData\\Local\\Temp\\ipykernel_28860\\1986622364.py:11: SettingWithCopyWarning: \n",
      "A value is trying to be set on a copy of a slice from a DataFrame.\n",
      "Try using .loc[row_indexer,col_indexer] = value instead\n",
      "\n",
      "See the caveats in the documentation: https://pandas.pydata.org/pandas-docs/stable/user_guide/indexing.html#returning-a-view-versus-a-copy\n",
      "  dataset['RSI'] = dataset['RS'].apply(lambda x: 100 - (100/(x + 1)))\n",
      "C:\\Users\\z004s8rp\\AppData\\Local\\Temp\\ipykernel_28860\\1986622364.py:12: SettingWithCopyWarning: \n",
      "A value is trying to be set on a copy of a slice from a DataFrame.\n",
      "Try using .loc[row_indexer,col_indexer] = value instead\n",
      "\n",
      "See the caveats in the documentation: https://pandas.pydata.org/pandas-docs/stable/user_guide/indexing.html#returning-a-view-versus-a-copy\n",
      "  dataset.loc[(dataset['Adj Close'] > dataset['MA200']) & (dataset['RSI'] < 30), 'Buy'] = 'Yes'\n",
      "[*********************100%%**********************]  1 of 1 completed\n",
      "C:\\Users\\z004s8rp\\AppData\\Local\\Temp\\ipykernel_28860\\1986622364.py:10: SettingWithCopyWarning: \n",
      "A value is trying to be set on a copy of a slice from a DataFrame.\n",
      "Try using .loc[row_indexer,col_indexer] = value instead\n",
      "\n",
      "See the caveats in the documentation: https://pandas.pydata.org/pandas-docs/stable/user_guide/indexing.html#returning-a-view-versus-a-copy\n",
      "  dataset['RS'] = dataset['avg_Up']/dataset['avg_Down']\n",
      "C:\\Users\\z004s8rp\\AppData\\Local\\Temp\\ipykernel_28860\\1986622364.py:11: SettingWithCopyWarning: \n",
      "A value is trying to be set on a copy of a slice from a DataFrame.\n",
      "Try using .loc[row_indexer,col_indexer] = value instead\n",
      "\n",
      "See the caveats in the documentation: https://pandas.pydata.org/pandas-docs/stable/user_guide/indexing.html#returning-a-view-versus-a-copy\n",
      "  dataset['RSI'] = dataset['RS'].apply(lambda x: 100 - (100/(x + 1)))\n",
      "C:\\Users\\z004s8rp\\AppData\\Local\\Temp\\ipykernel_28860\\1986622364.py:12: SettingWithCopyWarning: \n",
      "A value is trying to be set on a copy of a slice from a DataFrame.\n",
      "Try using .loc[row_indexer,col_indexer] = value instead\n",
      "\n",
      "See the caveats in the documentation: https://pandas.pydata.org/pandas-docs/stable/user_guide/indexing.html#returning-a-view-versus-a-copy\n",
      "  dataset.loc[(dataset['Adj Close'] > dataset['MA200']) & (dataset['RSI'] < 30), 'Buy'] = 'Yes'\n",
      "[*********************100%%**********************]  1 of 1 completed\n",
      "C:\\Users\\z004s8rp\\AppData\\Local\\Temp\\ipykernel_28860\\1986622364.py:10: SettingWithCopyWarning: \n",
      "A value is trying to be set on a copy of a slice from a DataFrame.\n",
      "Try using .loc[row_indexer,col_indexer] = value instead\n",
      "\n",
      "See the caveats in the documentation: https://pandas.pydata.org/pandas-docs/stable/user_guide/indexing.html#returning-a-view-versus-a-copy\n",
      "  dataset['RS'] = dataset['avg_Up']/dataset['avg_Down']\n",
      "C:\\Users\\z004s8rp\\AppData\\Local\\Temp\\ipykernel_28860\\1986622364.py:11: SettingWithCopyWarning: \n",
      "A value is trying to be set on a copy of a slice from a DataFrame.\n",
      "Try using .loc[row_indexer,col_indexer] = value instead\n",
      "\n",
      "See the caveats in the documentation: https://pandas.pydata.org/pandas-docs/stable/user_guide/indexing.html#returning-a-view-versus-a-copy\n",
      "  dataset['RSI'] = dataset['RS'].apply(lambda x: 100 - (100/(x + 1)))\n",
      "C:\\Users\\z004s8rp\\AppData\\Local\\Temp\\ipykernel_28860\\1986622364.py:12: SettingWithCopyWarning: \n",
      "A value is trying to be set on a copy of a slice from a DataFrame.\n",
      "Try using .loc[row_indexer,col_indexer] = value instead\n",
      "\n",
      "See the caveats in the documentation: https://pandas.pydata.org/pandas-docs/stable/user_guide/indexing.html#returning-a-view-versus-a-copy\n",
      "  dataset.loc[(dataset['Adj Close'] > dataset['MA200']) & (dataset['RSI'] < 30), 'Buy'] = 'Yes'\n"
     ]
    }
   ],
   "source": [
    "matrixsignals= [] \n",
    "matrixprofits= []\n",
    "\n",
    "for i in range(15):\n",
    "    frame=RSIcalc(tickers[i])\n",
    "    buy, sell = getSignals(frame)\n",
    "    profits = (frame.loc[sell].Open.values - frame.loc[buy].Open.values)/ frame.loc[buy].Open.values\n",
    "    matrixsignals.append(buy)\n",
    "    matrixprofits.append(profits)  "
   ]
  },
  {
   "cell_type": "code",
   "execution_count": 52,
   "id": "c41e8275-5a84-46b0-90b9-6fda59cdd778",
   "metadata": {},
   "outputs": [
    {
     "data": {
      "text/plain": [
       "0.7350877192982456"
      ]
     },
     "execution_count": 52,
     "metadata": {},
     "output_type": "execute_result"
    }
   ],
   "source": [
    "allprofit = []\n",
    "for i in matrixprofits:\n",
    "    for e in i:\n",
    "        allprofit.append(e)\n",
    "\n",
    "wins = [i for i in allprofit if i>0]\n",
    "len(wins)/len(allprofit)"
   ]
  },
  {
   "cell_type": "code",
   "execution_count": 53,
   "id": "5e2e63a2-7b71-4c17-a1be-f69e91ba7328",
   "metadata": {},
   "outputs": [
    {
     "data": {
      "image/png": "[encoded data removed]",
      "text/plain": [
       "<Figure size 640x480 with 1 Axes>"
      ]
     },
     "metadata": {},
     "output_type": "display_data"
    }
   ],
   "source": [
    "plt.hist(allprofit, bins=100)\n",
    "plt.show()"
   ]
  },
  {
   "cell_type": "code",
   "execution_count": null,
   "id": "aa7153f1-fce8-404e-bbf9-ce5128c97368",
   "metadata": {},
   "outputs": [],
   "source": []
  }
 ],
 "metadata": {
  "kernelspec": {
   "display_name": "Python 3 (ipykernel)",
   "language": "python",
   "name": "python3"
  },
  "language_info": {
   "codemirror_mode": {
    "name": "ipython",
    "version": 3
   },
   "file_extension": ".py",
   "mimetype": "text/x-python",
   "name": "python",
   "nbconvert_exporter": "python",
   "pygments_lexer": "ipython3",
   "version": "3.12.1"
  }
 },
 "nbformat": 4,
 "nbformat_minor": 5
}

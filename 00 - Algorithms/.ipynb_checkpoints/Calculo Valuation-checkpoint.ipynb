{
 "cells": [
  {
   "cell_type": "code",
   "execution_count": 1,
   "id": "509608ad-7813-4900-9f0e-ac4fca2a6d25",
   "metadata": {},
   "outputs": [],
   "source": [
    "import numpy as np\n",
    "import pandas as pd\n",
    "from datetime import datetime\n",
    "import matplotlib.pyplot as plt\n",
    "from pandas_datareader import data as web\n",
    "import yfinance as yf\n",
    "import seaborn as sb\n",
    "from sklearn.preprocessing import MinMaxScaler\n",
    "import seaborn as sns"
   ]
  },
  {
   "cell_type": "markdown",
   "id": "46bd8d4a-ae81-453b-aac9-8225a770a75b",
   "metadata": {},
   "source": [
    "# 1. Calculo Valuation baseado em Fluxo de Caixa Descontado"
   ]
  },
  {
   "cell_type": "markdown",
   "id": "7a24dddc-8b62-45ae-8b59-d5be7d73f8d3",
   "metadata": {},
   "source": [
    "Fluxo de Caixa Livre da Firma - É o resultado da empresa depois de pagar todo necessario para manter e expandir a firma (incluindo pagamento de credores e acionistas).\n",
    "\n",
    "Para calcular o Fluxo de Caixa Livre precisamos calcular o NOPAT (Resultado Operacional Liquido) com as seguintes informações: \n",
    "* EBIT\n",
    "* Aliquota de IR da empresa\n",
    "* Depreciação e amortização\n",
    "* CAPEX\n",
    "* Variação Capital de Giro\n",
    "\n",
    "Podemos obter essas informações no Status Invest"
   ]
  },
  {
   "cell_type": "code",
   "execution_count": null,
   "id": "22bcf8b0-6199-4463-ae2b-b7ffb165a016",
   "metadata": {},
   "outputs": [],
   "source": []
  },
  {
   "cell_type": "code",
   "execution_count": null,
   "id": "f7b878ba-147b-4fa1-9a6a-318c385b95a5",
   "metadata": {},
   "outputs": [],
   "source": []
  },
  {
   "cell_type": "code",
   "execution_count": null,
   "id": "b42b4189-7bb5-4d89-ac35-6dfb6a461b52",
   "metadata": {},
   "outputs": [],
   "source": []
  },
  {
   "cell_type": "code",
   "execution_count": null,
   "id": "201ce29e-2a83-4456-b302-3c19b4991955",
   "metadata": {},
   "outputs": [],
   "source": []
  },
  {
   "cell_type": "code",
   "execution_count": null,
   "id": "fba72c7c-a39a-47e0-8860-812c338b9a57",
   "metadata": {},
   "outputs": [],
   "source": []
  },
  {
   "cell_type": "code",
   "execution_count": null,
   "id": "2949442d-66a2-43a3-a0c8-10fdc232e7fd",
   "metadata": {},
   "outputs": [],
   "source": []
  }
 ],
 "metadata": {
  "kernelspec": {
   "display_name": "Python 3 (ipykernel)",
   "language": "python",
   "name": "python3"
  },
  "language_info": {
   "codemirror_mode": {
    "name": "ipython",
    "version": 3
   },
   "file_extension": ".py",
   "mimetype": "text/x-python",
   "name": "python",
   "nbconvert_exporter": "python",
   "pygments_lexer": "ipython3",
   "version": "3.12.1"
  }
 },
 "nbformat": 4,
 "nbformat_minor": 5
}

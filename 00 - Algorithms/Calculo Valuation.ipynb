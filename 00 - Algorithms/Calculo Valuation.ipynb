{
 "cells": [
  {
   "cell_type": "code",
   "execution_count": 1,
   "id": "509608ad-7813-4900-9f0e-ac4fca2a6d25",
   "metadata": {},
   "outputs": [],
   "source": [
    "import numpy as np\n",
    "import pandas as pd\n",
    "from datetime import datetime\n",
    "import matplotlib.pyplot as plt\n",
    "from pandas_datareader import data as web\n",
    "import yfinance as yf\n",
    "import seaborn as sb\n",
    "from sklearn.preprocessing import MinMaxScaler\n",
    "import seaborn as sns"
   ]
  },
  {
   "cell_type": "markdown",
   "id": "46bd8d4a-ae81-453b-aac9-8225a770a75b",
   "metadata": {},
   "source": [
    "# 1. Calculo Valuation baseado em Fluxo de Caixa Descontado"
   ]
  },
  {
   "cell_type": "markdown",
   "id": "7a24dddc-8b62-45ae-8b59-d5be7d73f8d3",
   "metadata": {},
   "source": [
    "Fluxo de Caixa Livre da Firma - É o resultado da empresa depois de pagar todo necessario para manter e expandir a firma (incluindo pagamento de credores e acionistas).\n",
    "\n",
    "Para calcular o Fluxo de Caixa Livre precisamos calcular o NOPAT (Resultado Operacional Liquido) com as seguintes informações: \n",
    "* EBIT (Obter essa informação da seção resultados do Status Invest)\n",
    "* Aliquota de IR da empresa (Obter essa informação do documento Demonstrações financeiras da empresa, disponível no canal de relação com o investidor)\n",
    "* Depreciação e amortização (Obter essa informação da seção resultados do Status Invest - O ideal é que se tire uma média dos ultimos anos, para evitar distorções)\n",
    "* CAPEX (Obter essa informação no fundamentei. Também é interessante verificar se não há distorções significativas no capex)\n",
    "* Variação Capital de Giro (Obter essa informação no Oceans 14. Obter a diferença entre o ano atual e o ano anterior)\n",
    "\n",
    "Podemos obter essas informações no Status Invest"
   ]
  },
  {
   "cell_type": "code",
   "execution_count": 16,
   "id": "22bcf8b0-6199-4463-ae2b-b7ffb165a016",
   "metadata": {},
   "outputs": [
    {
     "data": {
      "text/html": [
       "<div>\n",
       "<style scoped>\n",
       "    .dataframe tbody tr th:only-of-type {\n",
       "        vertical-align: middle;\n",
       "    }\n",
       "\n",
       "    .dataframe tbody tr th {\n",
       "        vertical-align: top;\n",
       "    }\n",
       "\n",
       "    .dataframe thead th {\n",
       "        text-align: right;\n",
       "    }\n",
       "</style>\n",
       "<table border=\"1\" class=\"dataframe\">\n",
       "  <thead>\n",
       "    <tr style=\"text-align: right;\">\n",
       "      <th></th>\n",
       "      <th>TICKER</th>\n",
       "      <th>PRECO</th>\n",
       "      <th>DY</th>\n",
       "      <th>P/L</th>\n",
       "      <th>P/VP</th>\n",
       "      <th>P/ATIVOS</th>\n",
       "      <th>MARGEM BRUTA</th>\n",
       "      <th>MARGEM EBIT</th>\n",
       "      <th>MARG. LIQUIDA</th>\n",
       "      <th>P/EBIT</th>\n",
       "      <th>...</th>\n",
       "      <th>PATRIMONIO / ATIVOS</th>\n",
       "      <th>PASSIVOS / ATIVOS</th>\n",
       "      <th>GIRO ATIVOS</th>\n",
       "      <th>CAGR RECEITAS 5 ANOS</th>\n",
       "      <th>CAGR LUCROS 5 ANOS</th>\n",
       "      <th>LIQUIDEZ MEDIA DIARIA</th>\n",
       "      <th>VPA</th>\n",
       "      <th>LPA</th>\n",
       "      <th>PEG Ratio</th>\n",
       "      <th>VALOR DE MERCADO</th>\n",
       "    </tr>\n",
       "  </thead>\n",
       "  <tbody>\n",
       "    <tr>\n",
       "      <th>611</th>\n",
       "      <td>WEGE3</td>\n",
       "      <td>37,14</td>\n",
       "      <td>1,85</td>\n",
       "      <td>31,37</td>\n",
       "      <td>9,67</td>\n",
       "      <td>5,18</td>\n",
       "      <td>31,56</td>\n",
       "      <td>18,80</td>\n",
       "      <td>15,70</td>\n",
       "      <td>26,20</td>\n",
       "      <td>...</td>\n",
       "      <td>0,54</td>\n",
       "      <td>0,45</td>\n",
       "      <td>1,05</td>\n",
       "      <td>25,71</td>\n",
       "      <td>34,19</td>\n",
       "      <td>248.320.983,14</td>\n",
       "      <td>3,84</td>\n",
       "      <td>1,18</td>\n",
       "      <td>0,78</td>\n",
       "      <td>155.888.390.445,72</td>\n",
       "    </tr>\n",
       "  </tbody>\n",
       "</table>\n",
       "<p>1 rows × 30 columns</p>\n",
       "</div>"
      ],
      "text/plain": [
       "    TICKER  PRECO    DY    P/L  P/VP P/ATIVOS MARGEM BRUTA MARGEM EBIT  \\\n",
       "611  WEGE3  37,14  1,85  31,37  9,67     5,18        31,56       18,80   \n",
       "\n",
       "    MARG. LIQUIDA P/EBIT  ... PATRIMONIO / ATIVOS PASSIVOS / ATIVOS  \\\n",
       "611         15,70  26,20  ...                0,54              0,45   \n",
       "\n",
       "    GIRO ATIVOS CAGR RECEITAS 5 ANOS CAGR LUCROS 5 ANOS  \\\n",
       "611        1,05                25,71              34,19   \n",
       "\n",
       "     LIQUIDEZ MEDIA DIARIA   VPA   LPA  PEG Ratio    VALOR DE MERCADO  \n",
       "611         248.320.983,14  3,84  1,18       0,78  155.888.390.445,72  \n",
       "\n",
       "[1 rows x 30 columns]"
      ]
     },
     "execution_count": 16,
     "metadata": {},
     "output_type": "execute_result"
    }
   ],
   "source": [
    "data = pd.read_csv(\"Data\\\\statusinvest-busca-avancada.csv\", delimiter=\";\")\n",
    "data_WEG = data[data.TICKER == \"WEGE3\"]\n",
    "data_WEG"
   ]
  },
  {
   "cell_type": "code",
   "execution_count": 30,
   "id": "b42b4189-7bb5-4d89-ac35-6dfb6a461b52",
   "metadata": {},
   "outputs": [],
   "source": [
    "def Calculo_NOPAT(ticker, ebit, aliquota_ir):\n",
    "    nopat = ebit * (1 - aliquota_ir)\n",
    "    return round(nopat,2)\n",
    "\n",
    "def calculo_fluxo_caixa_livre(ticker, nopat, depreciacao_amortizacao, capex, variacao_capital_de_giro):\n",
    "    fluxo_de_caixa = nopat + depreciacao_amortizacao - capex + variacao_capital_de_giro\n",
    "    return fluxo_de_caixa    "
   ]
  },
  {
   "cell_type": "code",
   "execution_count": 29,
   "id": "201ce29e-2a83-4456-b302-3c19b4991955",
   "metadata": {},
   "outputs": [
    {
     "data": {
      "text/plain": [
       "(437230200.0, 147685200.0)"
      ]
     },
     "execution_count": 29,
     "metadata": {},
     "output_type": "execute_result"
    }
   ],
   "source": [
    "nopat_ticker = Calculo_NOPAT(\"CAML3\", 662470000, 0.34) \n",
    "fluxo_caixa_livre_ticker = calculo_fluxo_caixa_livre(\"CAML3\", nopat_camil, 122455000, 236000000, -176000000) \n",
    "nopat_ticker, fluxo_caixa_livre_ticker"
   ]
  },
  {
   "cell_type": "markdown",
   "id": "eb7e20a3-537e-4e41-a24b-84c865cd0768",
   "metadata": {},
   "source": [
    "O segundo passo consiste em calcular a taxa de desconto. \n",
    "Conforme proposto anteriormente, queremos trazer o fluxo de caixa dos próximos anos a valor presente e para fazer isso precisamos utilizar uma taxa. \n",
    "Seria como se nós estivessemos calculando o fluxo de caixa da empresa no futuro, exemplo, suponha que daqui a 10 anos o fluxo de caixa da empresa seja 100 mil reais. Queremos descobrir, usando a taxa de desconto, quanto valeria hoje a quantia de 100 mil reais daqui a 10 anos. \n",
    "\n",
    "Essa taxa de desconto é chamada de Custo médio ponderado de capital (WAC). \n",
    "\n",
    "Considere que a empresa pode se financiar de duas formas:\n",
    "* Credores (pegando dinheiro no banco) - Nessa modalidade a empresa paga juros.\n",
    "* Capital proprio (captando $ de acionistas) - Nessa modalidade a empresa não paga juros, mas tem que dividir seu lucro com os acionistas.\n",
    "\n",
    "Nas duas formas a empresa tem um custo ao captar dinheiro. O que o custo médio ponderado de capital faz é justamente mostrar qual o custo médio dessa captação de capital."
   ]
  },
  {
   "cell_type": "markdown",
   "id": "92aa27b0-6eec-45a7-ad2a-682b3043a84a",
   "metadata": {},
   "source": [
    "Para calcular o WACC nós precisamos das seguintes informações: \n",
    "* We (Percentual de capital próprio) - Encontrado no Status Invest na seção de balanço patrimonial (Patrimonio Liquido / Passivo Total)\n",
    "* Ke (Custo de capital proprio)\n",
    "* Taxa livre de risco (Pode ser a taxa do EUA ou a Selic)\n",
    "* Premio de mercado (Consultar website do Damodaran. Esse é um valor tabelado).\n",
    "* Beta (O quanto um ativo tende a variar em comparação com o IBOV - consultar no site do Investing.com)\n",
    "* Wd (Percentual de capital de terceiros) - Encontrado no Status Invest na seção de balanço patrimonial ( 1 - (Patrimonio Liquido / Passivo Total))\n",
    "* Kd (Custo de capital de terceiros) - É o quanto a empresa paga de juros para pegar dinheiro de terceiros. Esse indicador não é divulgado pelas empresas, porém podemos pegar essa informação nas demonstrações contábeis. Veremos o quanto ela paga de juros nas suas emissões de debentures (ferramenta que as empresas usam para captar capital de terceiros)."
   ]
  },
  {
   "cell_type": "code",
   "execution_count": 46,
   "id": "ad2475ec-2a87-4280-a742-563bd784842f",
   "metadata": {},
   "outputs": [
    {
     "data": {
      "text/plain": [
       "0.061"
      ]
     },
     "execution_count": 46,
     "metadata": {},
     "output_type": "execute_result"
    }
   ],
   "source": [
    "def Calculo_WACC(we, taxa_livre_risco, premio_mercado, beta, wd):\n",
    "    ke = taxa_livre_risco + (premio_mercado * beta)\n",
    "    kd = taxa_livre_risco - 0.0010 + 0.0155\n",
    "    calculo_wacc = (we*ke)+(wd*kd)\n",
    "    return round(calculo_wacc,3)\n",
    "\n",
    "wacc_ticker = Calculo_WACC(0.44, 0.045, 0.0459, 0.379, 0.56)\n",
    "wacc_ticker"
   ]
  },
  {
   "cell_type": "markdown",
   "id": "78721ea4-6e2a-4f9c-85c6-508daea5385c",
   "metadata": {},
   "source": [
    "O ultimo passo consiste em determinar a taxa de crescimendo da empresa. Essa etapa é crucial.\n",
    "O fluxo de caixa que calculamos até o momento foi para o primeiro ano. Teremos agora que projetar o fluxo de caixa para os proximos anos. \n",
    "\n",
    "Estimar a taxa de crescimento é algo bem subjetivo e depende da experiencia de cada analista."
   ]
  },
  {
   "cell_type": "code",
   "execution_count": 47,
   "id": "6c4c2641-39b6-4e78-9b85-c690899e499d",
   "metadata": {},
   "outputs": [],
   "source": [
    "tx_crescimento_3anos  = 0.05 \n",
    "tx_crescimento_perenidade = 0.015  #Esse valor nunca pode ser maior do que a propria economia. Seja cauteloso e use um valor baixo.\n",
    "\n",
    "Ano1 = fluxo_caixa_livre_ticker\n",
    "Ano2 = Ano1 * (1 + tx_crescimento_3anos)\n",
    "Ano3 = Ano2 * (1 + tx_crescimento_3anos)\n",
    "perenidade = Ano3*(1+tx_crescimento_perenidade)/(wacc_ticker - tx_crescimento_perenidade)"
   ]
  },
  {
   "cell_type": "code",
   "execution_count": 48,
   "id": "e470c738-98f9-4e11-b7bf-65cd8fbed574",
   "metadata": {},
   "outputs": [],
   "source": [
    "#Trazendo dados a valor presente: \n",
    "Ano1_presente = Ano1/(1+wacc_ticker)\n",
    "Ano2_presente = Ano2/((1+wacc_ticker)**2)\n",
    "Ano3_presente = Ano3/((1+wacc_ticker)**3)\n",
    "perenidade_presente = perenidade/((1+wacc_ticker)**4)"
   ]
  },
  {
   "cell_type": "code",
   "execution_count": 49,
   "id": "c7825f75-5844-455f-b749-1ce29e560a3a",
   "metadata": {},
   "outputs": [
    {
     "data": {
      "text/plain": [
       "9.02"
      ]
     },
     "execution_count": 49,
     "metadata": {},
     "output_type": "execute_result"
    }
   ],
   "source": [
    "#Fluxo de caixa descontado\n",
    "DFC = Ano1_presente + Ano2_presente + Ano3_presente + perenidade_presente\n",
    "num_acoes = 360000000\n",
    "preco_ideal = round(DFC/num_acoes,2)\n",
    "preco_ideal"
   ]
  }
 ],
 "metadata": {
  "kernelspec": {
   "display_name": "Python 3 (ipykernel)",
   "language": "python",
   "name": "python3"
  },
  "language_info": {
   "codemirror_mode": {
    "name": "ipython",
    "version": 3
   },
   "file_extension": ".py",
   "mimetype": "text/x-python",
   "name": "python",
   "nbconvert_exporter": "python",
   "pygments_lexer": "ipython3",
   "version": "3.12.1"
  }
 },
 "nbformat": 4,
 "nbformat_minor": 5
}
